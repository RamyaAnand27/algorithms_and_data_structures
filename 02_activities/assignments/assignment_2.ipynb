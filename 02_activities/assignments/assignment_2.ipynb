{
 "cells": [
  {
   "cell_type": "markdown",
   "metadata": {},
   "source": [
    "# Practice Interview\n",
    "\n",
    "## Objective\n",
    "\n",
    "_*The partner assignment aims to provide participants with the opportunity to practice coding in an interview context. You will analyze your partner's Assignment 1. Moreover, code reviews are common practice in a software development team. This assignment should give you a taste of the code review process.*_\n",
    "\n",
    "## Group Size\n",
    "\n",
    "Each group should have 2 people. You will be assigned a partner\n",
    "\n",
    "## Part 1:\n",
    "\n",
    "You and your partner must share each other's Assignment 1 submission."
   ]
  },
  {
   "cell_type": "markdown",
   "metadata": {},
   "source": [
    "\n",
    "## Part 2:\n",
    "\n",
    "Create a Jupyter Notebook, create 6 of the following headings, and complete the following for your partner's assignment 1:\n",
    "\n",
    "-   Paraphrase the problem in your own words.\n"
   ]
  },
  {
   "cell_type": "code",
   "execution_count": null,
   "metadata": {},
   "outputs": [],
   "source": [
    "# Your answer here\n",
    "\n",
    "'''Given a list of integers that may contain duplicates. The task is to identify all the missing numbers in the list \n",
    "from the range starting at 0 up to the maximum number present in the list. If no numbers are missing, return -1.'''\n"
   ]
  },
  {
   "cell_type": "markdown",
   "metadata": {},
   "source": [
    "\n",
    "-   Create 1 new example that demonstrates you understand the problem. Trace/walkthrough 1 example that your partner made and explain it.\n"
   ]
  },
  {
   "cell_type": "code",
   "execution_count": null,
   "metadata": {},
   "outputs": [],
   "source": [
    "# Your answer here\n",
    "'''\n",
    "Example:\n",
    "\n",
    "Suppose you have the list of integers: [0, 1, 2, 4, 5, 7].\n",
    "\n",
    "The maximum value in the list is 7, so the range of numbers to consider is from 0 to 7.\n",
    "The full range of numbers from 0 to 7 is: [0, 1, 2, 3, 4, 5, 6, 7].\n",
    "The numbers missing from the input list are 3 and 6.\n",
    "Therefore, the function should return the list of missing numbers: [3, 6].\n",
    "\n",
    "If the list were [0, 1, 2, 3, 4, 5, 6, 7], there would be no missing numbers, and the function should return -1.\n",
    "'''\n",
    "\n",
    "'''\n",
    "Let's go through the partner's example step-by-step for the input list lst = [7, 1].\n",
    "\n",
    "Determine the Maximum Value:\n",
    "The maximum value in the list lst is 7.\n",
    "\n",
    "Define the Full Range:\n",
    "The full range of numbers from 0 to 7 is: [0, 1, 2, 3, 4, 5, 6, 7].\n",
    "\n",
    "Create a Set from the Input List:\n",
    "Convert the input list to a set to remove duplicates and allow for efficient lookups: set_lst = {7, 1}.\n",
    "\n",
    "Identify Missing Numbers:\n",
    "Subtract the set of numbers from the input list from the full range set: {0, 1, 2, 3, 4, 5, 6, 7} - {7, 1}.\n",
    "The result is a set of missing numbers: {0, 2, 3, 4, 5, 6}.\n",
    "\n",
    "Convert to a Sorted List:\n",
    "Convert the set of missing numbers to a sorted list: [0, 2, 3, 4, 5, 6].\n",
    "\n",
    "Return the Result:\n",
    "Since there are missing numbers, the function will return [0, 2, 3, 4, 5, 6].\n",
    "Therefore, for the input list lst = [7, 1], the output of the function would be [0, 2, 3, 4, 5, 6], representing the missing numbers.\n",
    "'''"
   ]
  },
  {
   "cell_type": "markdown",
   "metadata": {},
   "source": [
    "\n",
    "-   Copy the solution your partner wrote. \n"
   ]
  },
  {
   "cell_type": "code",
   "execution_count": null,
   "metadata": {},
   "outputs": [],
   "source": [
    "# Your answer here\n",
    "def missing_num(nums: list) -> int:\n",
    "    # Determine the maximum value in the list to define the upper limit of the range\n",
    "    max_val = max(lst)\n",
    "        \n",
    "    # Create a set from the list to remove duplicates and for O(1) average-time complexity for lookups\n",
    "    set_lst = set(lst)\n",
    "        \n",
    "    # Create a set of all numbers in the range 0 to max_val\n",
    "    full_range_set = set(range(max_val + 1))\n",
    "        \n",
    "    # Find the difference between the full range set and the set created from the list\n",
    "    missing_numbers = full_range_set - set_lst\n",
    "    \n",
    "    # Convert the set of missing numbers to a sorted list\n",
    "    missing_numbers_list = sorted(list(missing_numbers))\n",
    "    \n",
    "    # If there are no missing numbers, return -1\n",
    "    if not missing_numbers_list:\n",
    "        return -1\n",
    "    else:\n",
    "        return missing_numbers_list"
   ]
  },
  {
   "cell_type": "markdown",
   "metadata": {},
   "source": [
    "\n",
    "-   Explain why their solution works in your own words.\n"
   ]
  },
  {
   "cell_type": "code",
   "execution_count": null,
   "metadata": {},
   "outputs": [],
   "source": [
    "# Your answer here\n",
    "\n",
    "'''\n",
    "Efficient Range Comparison and Set Difference:\n",
    "\n",
    "By comparing the set of numbers in the list to the full range of numbers from 0 to the maximum value, we can efficiently identify \n",
    "which numbers are missing. Subtracting the set of numbers in the list from the set of the full range gives a direct way to find missing numbers,\n",
    "making this approach fast and efficient.\n",
    "\n",
    "Handling Duplicates:\n",
    "\n",
    "Using a set automatically removes duplicates, ensuring that each number is only considered once, simplifying the logic.\n",
    "\n",
    "'''"
   ]
  },
  {
   "cell_type": "markdown",
   "metadata": {},
   "source": [
    "\n",
    "-   Explain the problem’s time and space complexity in your own words.\n"
   ]
  },
  {
   "cell_type": "code",
   "execution_count": null,
   "metadata": {},
   "outputs": [],
   "source": [
    "# Your answer here\n",
    "\n",
    "'''\n",
    "Time Complexity: O(n log n)\n",
    "---------------------------\n",
    "\n",
    "Finding the Maximum Value:\n",
    "This operation iterates through the list once to find the maximum value. This takes O(n) time, where n is the number of elements in the list.\n",
    "\n",
    "Creating the Set from the List:\n",
    "Converting a list to a set involves iterating through the list and adding each element to the set. This also takes O(n) time.\n",
    "\n",
    "Creating the Full Range Set:\n",
    "This operation involves creating a range from 0 to max_val (inclusive) and then converting it to a set. \n",
    "Since max_val is the maximum element in the list, m can be at most n (in the worst case). Therefore, this step takes O(n) time.\n",
    "\n",
    "Finding the Set Difference:\n",
    "The set difference operation involves iterating through the elements of one set and checking for membership in the other set. \n",
    "This typically takes O(n) time since each lookup in a set is O(1) on average.\n",
    "\n",
    "Sorting the Missing Numbers:\n",
    "sorted(list(missing_numbers)): The missing numbers are converted to a list and sorted. Sorting takes O(k log k) time, \n",
    "where k is the number of missing elements. Hence, this step takes O(n log n) time in the worst case (if all elements are missing). \n",
    "\n",
    "The most time-consuming step is sorting the missing numbers, which takes O(n log n) time.\n",
    "\n",
    "Space Complexity: O(n)\n",
    "----------------------\n",
    "\n",
    "Space for the List:\n",
    "The input list itself takes O(n) space.\n",
    "\n",
    "Space for the Set Created from the List:\n",
    "set(lst): This set also takes O(n) space, as it stores each unique element from the list.\n",
    "\n",
    "Space for the Full Range Set:\n",
    "set(range(max_val + 1)): This set takes O(m) space, where m is the maximum value in the list. Since m can be up to n, this is O(n) space.\n",
    "\n",
    "Space for the Set Difference:\n",
    "The set of missing numbers, missing_numbers, in the worst case, can store up to O(n) elements.\n",
    "\n",
    "Space for the Sorted List:\n",
    "The sorted list of missing numbers, missing_numbers_list, takes O(n) space.\n",
    "\n",
    "Overall, the space complexity is dominated by the sets and the list used, which gives O(n) space complexity.\n",
    "'''"
   ]
  },
  {
   "cell_type": "markdown",
   "metadata": {},
   "source": [
    "\n",
    "-   Critique your partner's solution, including explanation, and if there is anything that should be adjusted.\n"
   ]
  },
  {
   "cell_type": "code",
   "execution_count": null,
   "metadata": {},
   "outputs": [],
   "source": [
    "# Your answer here\n",
    "'''\n",
    "There are a couple of minor issues to address in the code:\n",
    "\n",
    "The function accepts a list named nums, but the code uses lst within the function.\n",
    "The function is designed to return a list of missing numbers, but the docstring implies it should return a single number.\n",
    "\n",
    "Also, any approach to eliminate the need of sorting the set can help to improve the Time complexity. For example, the below approach\n",
    "to use boolean array to find the missing values. The time complexity is O(n), since no sorting involved.\n",
    "'''\n",
    "\n",
    "def missing_num(nums: list) -> list:\n",
    "    if not nums:\n",
    "        return []\n",
    "\n",
    "    # Determine the maximum value in the list\n",
    "    max_val = max(nums)\n",
    "\n",
    "    # Create a boolean array to mark the presence of numbers\n",
    "    present = [False] * (max_val + 1)\n",
    "\n",
    "    # Mark the presence of each number in the list\n",
    "    for num in nums:\n",
    "        present[num] = True\n",
    "\n",
    "    # Collect the missing numbers\n",
    "    missing_numbers = [i for i in range(max_val + 1) if not present[i]]\n",
    "\n",
    "    return missing_numbers if missing_numbers else -1\n",
    "\n",
    "# Example usage\n",
    "print(missing_num([7, 1]))  # Output: [0, 2, 3, 4, 5, 6]"
   ]
  },
  {
   "cell_type": "markdown",
   "metadata": {},
   "source": [
    "\n",
    "## Part 3:\n",
    "\n",
    "Please write a 200 word reflection documenting your process from assignment 1, and your presentation and review experience with your partner at the bottom of the Jupyter Notebook under a new heading \"Reflection.\" Again, export this Notebook as pdf.\n"
   ]
  },
  {
   "cell_type": "markdown",
   "metadata": {},
   "source": [
    "### Reflection"
   ]
  },
  {
   "cell_type": "code",
   "execution_count": null,
   "metadata": {},
   "outputs": [],
   "source": [
    "# Your answer here\n",
    "'''\n",
    "For Assignment1, I worked on the problem to find the first duplicate in a list using the binary tree algorithm. It helped me in understanding \n",
    "the different search techniques used for traversing through tree. I used the breadth first approach which made a note of the visited nodes and\n",
    "helped in identifying the duplicate or return -1 if none is duplicated. The second approach more efficient than the first to use the recursive\n",
    "depth first search. It helped in utilising the reusability concepts and understanding the space and time complexities.\n",
    "\n",
    "For Assignment 2,  I evaluated my partner's solution for identifying missing numbers in a list. By rephrasing the problem, generating new \n",
    "examples, and breaking down the solution's time and space complexities, I gained a deeper understanding of efficient array handling and \n",
    "set operations. Moreover, offering constructive feedback on the strengths and possible enhancements of my partner's solution allowed me to \n",
    "explore algorithmic efficiency and optimization strategies more thoroughly.\n",
    "'''"
   ]
  },
  {
   "cell_type": "markdown",
   "metadata": {},
   "source": [
    "\n",
    "## Evaluation Criteria\n",
    "\n",
    "We are looking for the similar points as Assignment 1\n",
    "\n",
    "-   Problem is accurately stated\n",
    "\n",
    "-   New example is correct and easily understandable\n",
    "\n",
    "-   Correctness, time, and space complexity of the coding solution\n",
    "\n",
    "-   Clarity in explaining why the solution works, its time and space complexity\n",
    "\n",
    "-   Quality of critique of your partner's assignment, if necessary\n"
   ]
  },
  {
   "cell_type": "markdown",
   "metadata": {},
   "source": [
    "## Submission Information\n",
    "\n",
    "🚨 **Please review our [Assignment Submission Guide](https://github.com/UofT-DSI/onboarding/blob/main/onboarding_documents/submissions.md)** 🚨 for detailed instructions on how to format, branch, and submit your work. Following these guidelines is crucial for your submissions to be evaluated correctly.\n",
    "\n",
    "### Submission Parameters:\n",
    "* Submission Due Date: `HH:MM AM/PM - DD/MM/YYYY`\n",
    "* The branch name for your repo should be: `assignment-2`\n",
    "* What to submit for this assignment:\n",
    "    * This Jupyter Notebook (assignment_2.ipynb) should be populated and should be the only change in your pull request.\n",
    "* What the pull request link should look like for this assignment: `https://github.com/<your_github_username>/algorithms_and_data_structures/pull/<pr_id>`\n",
    "    * Open a private window in your browser. Copy and paste the link to your pull request into the address bar. Make sure you can see your pull request properly. This helps the technical facilitator and learning support staff review your submission easily.\n",
    "\n",
    "Checklist:\n",
    "- [ ] Created a branch with the correct naming convention.\n",
    "- [ ] Ensured that the repository is public.\n",
    "- [ ] Reviewed the PR description guidelines and adhered to them.\n",
    "- [ ] Verify that the link is accessible in a private browser window.\n",
    "\n",
    "If you encounter any difficulties or have questions, please don't hesitate to reach out to our team via our Slack at `#cohort-3-help`. Our Technical Facilitators and Learning Support staff are here to help you navigate any challenges.\n"
   ]
  }
 ],
 "metadata": {
  "language_info": {
   "name": "python"
  }
 },
 "nbformat": 4,
 "nbformat_minor": 2
}
